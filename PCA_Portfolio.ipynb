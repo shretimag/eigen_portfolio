{
  "nbformat": 4,
  "nbformat_minor": 0,
  "metadata": {
    "colab": {
      "provenance": [],
      "include_colab_link": true
    },
    "kernelspec": {
      "name": "python3",
      "display_name": "Python 3"
    },
    "language_info": {
      "name": "python"
    }
  },
  "cells": [
    {
      "cell_type": "markdown",
      "metadata": {
        "id": "view-in-github",
        "colab_type": "text"
      },
      "source": [
        "<a href=\"https://colab.research.google.com/github/shretimag/eigen_portfolio/blob/main/PCA_Portfolio.ipynb\" target=\"_parent\"><img src=\"https://colab.research.google.com/assets/colab-badge.svg\" alt=\"Open In Colab\"/></a>"
      ]
    },
    {
      "cell_type": "code",
      "execution_count": null,
      "metadata": {
        "id": "b0hyFQ_U_252"
      },
      "outputs": [],
      "source": [
        "pip -q install yfinance"
      ]
    },
    {
      "cell_type": "code",
      "source": [
        "import numpy as np\n",
        "import pandas as pd\n",
        "import yfinance as yf\n",
        "import matplotlib\n",
        "import matplotlib.pyplot as plt\n",
        "import seaborn as sns\n",
        "import datetime"
      ],
      "metadata": {
        "id": "V4nC3DGVBlet"
      },
      "execution_count": null,
      "outputs": []
    },
    {
      "cell_type": "code",
      "source": [
        "name=['GOOG','AMZN','SBIN.BO','MSFT','LT.NS','RELIANCE.NS','TATASTEEL.NS','HDFCLIFE.NS','ITC.NS','MARUTI.NS','COALINDIA.NS','BHARTIARTL.NS','NTPC.NS','TATACONSUM.NS','KOTAKBANK.NS','NESTLEIND.NS','BRITANNIA.NS','BAJFINANCE.NS','BAJAJFINSV.NS','RELIANCE.NS']"
      ],
      "metadata": {
        "id": "8a3ydHUiCBqm"
      },
      "execution_count": null,
      "outputs": []
    },
    {
      "cell_type": "code",
      "source": [
        "def dataset(name):\n",
        "  y_f = pd.DataFrame() #empty dataframe\n",
        "  for i in name:\n",
        "    y = yf.Ticker(i)\n",
        "    d = y.history(interval = \"1d\", start=\"2024-01-01\", end='2024-03-01')\n",
        "    n_d = (d['Close']-d['Open'])*100/d['Open']\n",
        "    list_ = (d.index).tolist()\n",
        "    n_d_n = n_d.to_numpy().reshape(1,-1)\n",
        "    df = pd.DataFrame(n_d_n)\n",
        "    y_f = y_f.append(df, ignore_index = True)\n",
        "  return y_f.T, list_"
      ],
      "metadata": {
        "id": "CxapdkBLFgfk"
      },
      "execution_count": null,
      "outputs": []
    },
    {
      "cell_type": "code",
      "source": [
        "y_f , list_ = dataset(name)\n",
        "y_f.columns = name"
      ],
      "metadata": {
        "id": "QrLBedU0GsBc"
      },
      "execution_count": null,
      "outputs": []
    },
    {
      "cell_type": "code",
      "source": [
        "y_f"
      ],
      "metadata": {
        "id": "GUbCtv0d0Uy2"
      },
      "execution_count": null,
      "outputs": []
    },
    {
      "cell_type": "code",
      "source": [
        "y_f = y_f.assign(Date = list_)\n",
        "y_f = y_f.set_index(keys='Date') # y_f.set_index(keys='Date', inplace = True)\n",
        "y_f.head()"
      ],
      "metadata": {
        "id": "f8uhwUzDcRlF"
      },
      "execution_count": null,
      "outputs": []
    },
    {
      "cell_type": "code",
      "source": [
        "asset_returns = pd.DataFrame(data=np.zeros(shape=(len(y_f.index), y_f.shape[1])),\n",
        "                             columns=y_f.columns.values,\n",
        "                             index=y_f.index)\n",
        "normed_returns = asset_returns\n",
        "# normed_returns is pandas.DataFrame that should contain normalized returns\n",
        "asset_returns = y_f.pct_change(1).dropna()\n",
        "normed_returns = (asset_returns - asset_returns.mean()) / (asset_returns.std() + 1e-8) # (x-mu)/std\n",
        "normed_returns = normed_returns.dropna(axis = 1)# removing null/nan values\n",
        "\n",
        "normed_returns.head()"
      ],
      "metadata": {
        "id": "rrLnzV5xGgPS"
      },
      "execution_count": null,
      "outputs": []
    },
    {
      "cell_type": "code",
      "source": [
        "normed_returns.shape"
      ],
      "metadata": {
        "id": "BBcde50y0_vE"
      },
      "execution_count": null,
      "outputs": []
    },
    {
      "cell_type": "code",
      "source": [
        "train_end = \"2024-02-15\" #train_data = [1 Jan- 15 Jan] test = [16 Jan - 1 Mar]\n",
        "\n",
        "df_train = None\n",
        "df_test = None\n",
        "df_raw_train = None\n",
        "df_raw_test = None\n",
        "\n",
        "df_train = normed_returns[normed_returns.index <= train_end].copy()\n",
        "df_test = normed_returns[normed_returns.index > train_end].copy()\n",
        "\n",
        "df_raw_train = asset_returns[asset_returns.index <= train_end].copy()\n",
        "df_raw_test = asset_returns[asset_returns.index > train_end].copy()\n",
        "\n",
        "print('Train dataset:', df_train.shape)\n",
        "print('Test dataset:', df_test.shape)"
      ],
      "metadata": {
        "id": "AeVN3YVvJvDv"
      },
      "execution_count": null,
      "outputs": []
    },
    {
      "cell_type": "code",
      "source": [
        "from sklearn.decomposition import PCA\n",
        "pca=PCA(n_components = 7)"
      ],
      "metadata": {
        "id": "OIwpD0YjmJrP"
      },
      "execution_count": null,
      "outputs": []
    },
    {
      "cell_type": "code",
      "source": [
        "fit = pca.fit_transform(df_train)\n",
        "df_pca = pd.DataFrame(fit,columns=np.arange(pca.n_components_))\n",
        "df_pca.head()"
      ],
      "metadata": {
        "id": "7vewWY7Pm6h5"
      },
      "execution_count": null,
      "outputs": []
    },
    {
      "cell_type": "code",
      "source": [
        "df_pca.shape"
      ],
      "metadata": {
        "id": "62nz_U7L1tWc"
      },
      "execution_count": null,
      "outputs": []
    },
    {
      "cell_type": "code",
      "source": [
        "def sharpe_ratio(ts_returns, periods_per_year=252):\n",
        "    annualized_return = 0.\n",
        "    annualized_vol = 0.\n",
        "    annualized_sharpe = 0.\n",
        "\n",
        "    n_years = ts_returns.shape[0] / periods_per_year\n",
        "    annualized_return = np.power(np.prod(1 + ts_returns),(1 / n_years)) - 1\n",
        "    annualized_vol = ts_returns.std() * np.sqrt(periods_per_year)\n",
        "    annualized_sharpe = annualized_return / annualized_vol\n",
        "\n",
        "\n",
        "    return annualized_return, annualized_vol, annualized_sharpe"
      ],
      "metadata": {
        "id": "xppvN5l9nDk4"
      },
      "execution_count": null,
      "outputs": []
    }
  ]
}